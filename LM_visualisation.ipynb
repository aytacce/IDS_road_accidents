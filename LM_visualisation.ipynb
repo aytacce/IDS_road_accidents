{
 "cells": [
  {
   "cell_type": "code",
   "execution_count": 3,
   "metadata": {},
   "outputs": [
    {
     "name": "stderr",
     "output_type": "stream",
     "text": [
      "C:\\Users\\loma5202\\AppData\\Local\\Temp\\ipykernel_28756\\1714511162.py:8: DtypeWarning: Columns (0,2,15,16,35) have mixed types. Specify dtype option on import or set low_memory=False.\n",
      "  collisions_data = pd.read_csv(collisions)\n",
      "C:\\Users\\loma5202\\AppData\\Local\\Temp\\ipykernel_28756\\1714511162.py:9: DtypeWarning: Columns (0,2,24,27) have mixed types. Specify dtype option on import or set low_memory=False.\n",
      "  vehicles_data = pd.read_csv(vehicles)\n"
     ]
    }
   ],
   "source": [
    "import pandas as pd\n",
    "\n",
    "# Load the datasets\n",
    "collisions = 'C:/Users/loma5202/OneDrive - Kruvelab/PhD/courses/introduction_to_data_science/project/UK_road_casualty_collision_1979_2022.csv'\n",
    "vehicles = 'C:/Users/loma5202/OneDrive - Kruvelab/PhD/courses/introduction_to_data_science/project/UK_road_casualty_vehicle_1979_2022.csv'\n",
    "\n",
    "# Read the CSV files\n",
    "collisions_data = pd.read_csv(collisions)\n",
    "vehicles_data = pd.read_csv(vehicles)"
   ]
  },
  {
   "cell_type": "code",
   "execution_count": 4,
   "metadata": {},
   "outputs": [],
   "source": [
    "# Remove unnecessary columns\n",
    "cols_remove = ['location_easting_osgr', 'location_northing_osgr', 'longitude', 'latitude', 'police_force',\n",
    "               'local_authority_district', 'local_authority_ons_district', 'local_authority_highway',\n",
    "               'first_road_number', 'second_road_number', 'pedestrian_crossing_human_control',\n",
    "               'trunk_road_flag', 'lsoa_of_accident_location']\n",
    "\n",
    "cols_save = ['accident_index', 'accident_year', 'accident_reference', 'vehicle_reference', 'vehicle_type',\n",
    "             'sex_of_driver', 'age_of_driver', 'engine_capacity_cc', 'age_of_vehicle']\n",
    "\n",
    "collisions_data = collisions_data.drop(cols_remove, axis = 1)\n",
    "vehicles_data = vehicles_data[cols_save]\n"
   ]
  },
  {
   "cell_type": "code",
   "execution_count": 5,
   "metadata": {},
   "outputs": [],
   "source": [
    "# Joining the datasets on 'accident_index'\n",
    "road_acc_data = pd.merge(collisions_data, vehicles_data, on = 'accident_index', how = 'inner')"
   ]
  },
  {
   "cell_type": "code",
   "execution_count": 6,
   "metadata": {},
   "outputs": [],
   "source": [
    "# Remove unnecessary columns from combined data frame\n",
    "cols_remove = ['accident_index', 'accident_year_x', 'accident_reference_x', 'accident_reference_y', \n",
    "               'vehicle_reference']\n",
    "\n",
    "road_acc_data = road_acc_data.drop(cols_remove, axis = 1)"
   ]
  },
  {
   "cell_type": "code",
   "execution_count": 7,
   "metadata": {},
   "outputs": [
    {
     "data": {
      "text/html": [
       "<div>\n",
       "<style scoped>\n",
       "    .dataframe tbody tr th:only-of-type {\n",
       "        vertical-align: middle;\n",
       "    }\n",
       "\n",
       "    .dataframe tbody tr th {\n",
       "        vertical-align: top;\n",
       "    }\n",
       "\n",
       "    .dataframe thead th {\n",
       "        text-align: right;\n",
       "    }\n",
       "</style>\n",
       "<table border=\"1\" class=\"dataframe\">\n",
       "  <thead>\n",
       "    <tr style=\"text-align: right;\">\n",
       "      <th></th>\n",
       "      <th>vehicle_type</th>\n",
       "      <th>vehicle_type_grouped</th>\n",
       "    </tr>\n",
       "  </thead>\n",
       "  <tbody>\n",
       "    <tr>\n",
       "      <th>0</th>\n",
       "      <td>109</td>\n",
       "      <td>8</td>\n",
       "    </tr>\n",
       "    <tr>\n",
       "      <th>1</th>\n",
       "      <td>104</td>\n",
       "      <td>2</td>\n",
       "    </tr>\n",
       "    <tr>\n",
       "      <th>2</th>\n",
       "      <td>109</td>\n",
       "      <td>8</td>\n",
       "    </tr>\n",
       "    <tr>\n",
       "      <th>3</th>\n",
       "      <td>109</td>\n",
       "      <td>8</td>\n",
       "    </tr>\n",
       "    <tr>\n",
       "      <th>4</th>\n",
       "      <td>109</td>\n",
       "      <td>8</td>\n",
       "    </tr>\n",
       "    <tr>\n",
       "      <th>5</th>\n",
       "      <td>109</td>\n",
       "      <td>8</td>\n",
       "    </tr>\n",
       "    <tr>\n",
       "      <th>6</th>\n",
       "      <td>109</td>\n",
       "      <td>8</td>\n",
       "    </tr>\n",
       "    <tr>\n",
       "      <th>7</th>\n",
       "      <td>109</td>\n",
       "      <td>8</td>\n",
       "    </tr>\n",
       "    <tr>\n",
       "      <th>8</th>\n",
       "      <td>109</td>\n",
       "      <td>8</td>\n",
       "    </tr>\n",
       "    <tr>\n",
       "      <th>9</th>\n",
       "      <td>109</td>\n",
       "      <td>8</td>\n",
       "    </tr>\n",
       "  </tbody>\n",
       "</table>\n",
       "</div>"
      ],
      "text/plain": [
       "   vehicle_type  vehicle_type_grouped\n",
       "0           109                     8\n",
       "1           104                     2\n",
       "2           109                     8\n",
       "3           109                     8\n",
       "4           109                     8\n",
       "5           109                     8\n",
       "6           109                     8\n",
       "7           109                     8\n",
       "8           109                     8\n",
       "9           109                     8"
      ]
     },
     "execution_count": 7,
     "metadata": {},
     "output_type": "execute_result"
    }
   ],
   "source": [
    "# Re-classifying vehicle_type (all motorcycles in one group, cars + taxi in one group, etc.)\n",
    "# Creating a mapping function for the vehicle_type groups\n",
    "def map_vehicle_type(value):\n",
    "    if value in [2, 3, 4, 5, 97, 104, 105, 106]:\n",
    "        return 2\n",
    "    elif value in [8, 9, 108, 109]:\n",
    "        return 8\n",
    "    elif value in [20, 21, 113]:\n",
    "        return 20\n",
    "    elif value in [90, 98, 99]:\n",
    "        return 90\n",
    "    elif value in [10, 110]:\n",
    "        return 10\n",
    "    else:\n",
    "        return value\n",
    "\n",
    "# Applying the mapping function to the vehicle_type column\n",
    "road_acc_data['vehicle_type_grouped'] = road_acc_data['vehicle_type'].apply(map_vehicle_type)\n",
    "\n",
    "# Checking the modification by displaying the first few rows\n",
    "road_acc_data[['vehicle_type', 'vehicle_type_grouped']].head(10)\n"
   ]
  },
  {
   "cell_type": "code",
   "execution_count": null,
   "metadata": {},
   "outputs": [],
   "source": []
  }
 ],
 "metadata": {
  "kernelspec": {
   "display_name": "base",
   "language": "python",
   "name": "python3"
  },
  "language_info": {
   "codemirror_mode": {
    "name": "ipython",
    "version": 3
   },
   "file_extension": ".py",
   "mimetype": "text/x-python",
   "name": "python",
   "nbconvert_exporter": "python",
   "pygments_lexer": "ipython3",
   "version": "3.11.4"
  }
 },
 "nbformat": 4,
 "nbformat_minor": 2
}

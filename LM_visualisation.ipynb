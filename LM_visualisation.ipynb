{
 "cells": [
  {
   "cell_type": "code",
   "execution_count": 2,
   "metadata": {},
   "outputs": [
    {
     "name": "stderr",
     "output_type": "stream",
     "text": [
      "C:\\Users\\loma5202\\AppData\\Local\\Temp\\ipykernel_6928\\339320285.py:8: DtypeWarning: Columns (0,2,15,16,35) have mixed types. Specify dtype option on import or set low_memory=False.\n",
      "  df_collision = pd.read_csv(file_collision)\n",
      "C:\\Users\\loma5202\\AppData\\Local\\Temp\\ipykernel_6928\\339320285.py:9: DtypeWarning: Columns (0,2,24,27) have mixed types. Specify dtype option on import or set low_memory=False.\n",
      "  df_vehicle = pd.read_csv(file_vehicle)\n"
     ]
    }
   ],
   "source": [
    "import pandas as pd\n",
    "\n",
    "# Load the datasets\n",
    "file_collision = 'C:/Users/loma5202/OneDrive - Kruvelab/PhD/courses/introduction_to_data_science/project/UK_road_casualty_collision_1979_2022.csv'\n",
    "file_vehicle = 'C:/Users/loma5202/OneDrive - Kruvelab/PhD/courses/introduction_to_data_science/project/UK_road_casualty_vehicle_1979_2022.csv'\n",
    "\n",
    "# Read the CSV files\n",
    "df_collision = pd.read_csv(file_collision)\n",
    "df_vehicle = pd.read_csv(file_vehicle)"
   ]
  },
  {
   "cell_type": "code",
   "execution_count": 4,
   "metadata": {},
   "outputs": [],
   "source": [
    "# Remove unnecessary columns\n",
    "cols_remove = ['location_easting_osgr', 'location_northing_osgr', 'longitude', 'latitude', 'police_force',\n",
    "               'local_authority_district', 'local_authority_ons_district', 'local_authority_highway',\n",
    "               'first_road_number', 'second_road_number', 'pedestrian_crossing_human_control',\n",
    "               'trunk_road_flag', 'lsoa_of_accident_location']\n",
    "\n",
    "cols_save = ['accident_index', 'accident_year', 'accident_reference', 'vehicle_reference', 'vehicle_type',\n",
    "             'sex_of_driver', 'age_of_driver', 'engine_capacity_cc', 'age_of_vehicle']\n",
    "\n",
    "df_collision = df_collision.drop(cols_remove, axis = 1)\n",
    "df_vehicle = df_vehicle[cols_save]\n"
   ]
  },
  {
   "cell_type": "code",
   "execution_count": 5,
   "metadata": {},
   "outputs": [],
   "source": [
    "# Joining the datasets on 'accident_index'\n",
    "df_joined = pd.merge(df_collision, df_vehicle, on = 'accident_index', how = 'inner')"
   ]
  },
  {
   "cell_type": "code",
   "execution_count": 8,
   "metadata": {},
   "outputs": [
    {
     "data": {
      "text/html": [
       "<div>\n",
       "<style scoped>\n",
       "    .dataframe tbody tr th:only-of-type {\n",
       "        vertical-align: middle;\n",
       "    }\n",
       "\n",
       "    .dataframe tbody tr th {\n",
       "        vertical-align: top;\n",
       "    }\n",
       "\n",
       "    .dataframe thead th {\n",
       "        text-align: right;\n",
       "    }\n",
       "</style>\n",
       "<table border=\"1\" class=\"dataframe\">\n",
       "  <thead>\n",
       "    <tr style=\"text-align: right;\">\n",
       "      <th></th>\n",
       "      <th>accident_index</th>\n",
       "      <th>accident_year_x</th>\n",
       "      <th>accident_reference_x</th>\n",
       "      <th>accident_severity</th>\n",
       "      <th>number_of_vehicles</th>\n",
       "      <th>number_of_casualties</th>\n",
       "      <th>date</th>\n",
       "      <th>day_of_week</th>\n",
       "      <th>time</th>\n",
       "      <th>first_road_class</th>\n",
       "      <th>...</th>\n",
       "      <th>urban_or_rural_area</th>\n",
       "      <th>did_police_officer_attend_scene_of_accident</th>\n",
       "      <th>accident_year_y</th>\n",
       "      <th>accident_reference_y</th>\n",
       "      <th>vehicle_reference</th>\n",
       "      <th>vehicle_type</th>\n",
       "      <th>sex_of_driver</th>\n",
       "      <th>age_of_driver</th>\n",
       "      <th>engine_capacity_cc</th>\n",
       "      <th>age_of_vehicle</th>\n",
       "    </tr>\n",
       "  </thead>\n",
       "  <tbody>\n",
       "    <tr>\n",
       "      <th>0</th>\n",
       "      <td>197901A11AD14</td>\n",
       "      <td>1979</td>\n",
       "      <td>01A11AD14</td>\n",
       "      <td>3</td>\n",
       "      <td>2</td>\n",
       "      <td>1</td>\n",
       "      <td>18/01/1979</td>\n",
       "      <td>5</td>\n",
       "      <td>08:00</td>\n",
       "      <td>3</td>\n",
       "      <td>...</td>\n",
       "      <td>-1</td>\n",
       "      <td>-1</td>\n",
       "      <td>1979</td>\n",
       "      <td>01A11AD14</td>\n",
       "      <td>1</td>\n",
       "      <td>109</td>\n",
       "      <td>1</td>\n",
       "      <td>44</td>\n",
       "      <td>-1</td>\n",
       "      <td>-1</td>\n",
       "    </tr>\n",
       "  </tbody>\n",
       "</table>\n",
       "<p>1 rows × 31 columns</p>\n",
       "</div>"
      ],
      "text/plain": [
       "  accident_index  accident_year_x accident_reference_x  accident_severity  \\\n",
       "0  197901A11AD14             1979            01A11AD14                  3   \n",
       "\n",
       "   number_of_vehicles  number_of_casualties        date  day_of_week   time  \\\n",
       "0                   2                     1  18/01/1979            5  08:00   \n",
       "\n",
       "   first_road_class  ...  urban_or_rural_area  \\\n",
       "0                 3  ...                   -1   \n",
       "\n",
       "   did_police_officer_attend_scene_of_accident  accident_year_y  \\\n",
       "0                                           -1             1979   \n",
       "\n",
       "   accident_reference_y  vehicle_reference  vehicle_type  sex_of_driver  \\\n",
       "0             01A11AD14                  1           109              1   \n",
       "\n",
       "   age_of_driver  engine_capacity_cc  age_of_vehicle  \n",
       "0             44                  -1              -1  \n",
       "\n",
       "[1 rows x 31 columns]"
      ]
     },
     "execution_count": 8,
     "metadata": {},
     "output_type": "execute_result"
    }
   ],
   "source": [
    "df_joined.head(1)"
   ]
  },
  {
   "cell_type": "code",
   "execution_count": null,
   "metadata": {},
   "outputs": [],
   "source": [
    "cols_remove = ['accident_index', 'accident_year_x', 'accident_reference_x', 'accident_reference_y', \n",
    "               'vehicle_reference']\n",
    "\n",
    "df_joined = df_joined.drop(cols_remove, axis = 1)"
   ]
  },
  {
   "cell_type": "code",
   "execution_count": 14,
   "metadata": {},
   "outputs": [
    {
     "data": {
      "text/html": [
       "<div>\n",
       "<style scoped>\n",
       "    .dataframe tbody tr th:only-of-type {\n",
       "        vertical-align: middle;\n",
       "    }\n",
       "\n",
       "    .dataframe tbody tr th {\n",
       "        vertical-align: top;\n",
       "    }\n",
       "\n",
       "    .dataframe thead th {\n",
       "        text-align: right;\n",
       "    }\n",
       "</style>\n",
       "<table border=\"1\" class=\"dataframe\">\n",
       "  <thead>\n",
       "    <tr style=\"text-align: right;\">\n",
       "      <th></th>\n",
       "      <th>vehicle_type</th>\n",
       "      <th>vehicle_type_grouped</th>\n",
       "    </tr>\n",
       "  </thead>\n",
       "  <tbody>\n",
       "    <tr>\n",
       "      <th>0</th>\n",
       "      <td>109</td>\n",
       "      <td>8</td>\n",
       "    </tr>\n",
       "    <tr>\n",
       "      <th>1</th>\n",
       "      <td>104</td>\n",
       "      <td>2</td>\n",
       "    </tr>\n",
       "    <tr>\n",
       "      <th>2</th>\n",
       "      <td>109</td>\n",
       "      <td>8</td>\n",
       "    </tr>\n",
       "    <tr>\n",
       "      <th>3</th>\n",
       "      <td>109</td>\n",
       "      <td>8</td>\n",
       "    </tr>\n",
       "    <tr>\n",
       "      <th>4</th>\n",
       "      <td>109</td>\n",
       "      <td>8</td>\n",
       "    </tr>\n",
       "  </tbody>\n",
       "</table>\n",
       "</div>"
      ],
      "text/plain": [
       "   vehicle_type  vehicle_type_grouped\n",
       "0           109                     8\n",
       "1           104                     2\n",
       "2           109                     8\n",
       "3           109                     8\n",
       "4           109                     8"
      ]
     },
     "execution_count": 14,
     "metadata": {},
     "output_type": "execute_result"
    }
   ],
   "source": [
    "# Creating a mapping function for the vehicle_type groups\n",
    "def map_vehicle_type(value):\n",
    "    if value in [2, 3, 4, 5, 97, 104, 105, 106]:\n",
    "        return 2\n",
    "    elif value in [8, 9, 108, 109]:\n",
    "        return 8\n",
    "    elif value in [20, 21, 113]:\n",
    "        return 20\n",
    "    elif value in [90, 98, 99]:\n",
    "        return 90\n",
    "    elif value in [10, 110]:\n",
    "        return 10\n",
    "    else:\n",
    "        return value\n",
    "\n",
    "# Applying the mapping function to the vehicle_type column\n",
    "df_joined['vehicle_type_grouped'] = df_joined['vehicle_type'].apply(map_vehicle_type)\n",
    "\n",
    "# Checking the modification by displaying the first few rows\n",
    "df_joined[['vehicle_type', 'vehicle_type_grouped']].head()\n"
   ]
  },
  {
   "cell_type": "code",
   "execution_count": null,
   "metadata": {},
   "outputs": [],
   "source": []
  }
 ],
 "metadata": {
  "kernelspec": {
   "display_name": "base",
   "language": "python",
   "name": "python3"
  },
  "language_info": {
   "codemirror_mode": {
    "name": "ipython",
    "version": 3
   },
   "file_extension": ".py",
   "mimetype": "text/x-python",
   "name": "python",
   "nbconvert_exporter": "python",
   "pygments_lexer": "ipython3",
   "version": "3.11.4"
  }
 },
 "nbformat": 4,
 "nbformat_minor": 2
}

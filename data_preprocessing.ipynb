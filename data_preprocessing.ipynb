{
 "cells": [
  {
   "cell_type": "code",
   "execution_count": 35,
   "metadata": {},
   "outputs": [
    {
     "name": "stderr",
     "output_type": "stream",
     "text": [
      "C:\\Users\\loma5202\\AppData\\Local\\Temp\\ipykernel_10956\\1907285747.py:3: DtypeWarning: Columns (0) have mixed types. Specify dtype option on import or set low_memory=False.\n",
      "  acc_data_ML = pd.read_csv('C:/Users/loma5202/OneDrive - Kruvelab/PhD/courses/introduction_to_data_science/project/combined_collision_vehicle_1979_2022.csv')\n"
     ]
    }
   ],
   "source": [
    "import pandas as pd\n",
    "\n",
    "acc_data_ML = pd.read_csv('C:/Users/loma5202/OneDrive - Kruvelab/PhD/courses/introduction_to_data_science/project/combined_collision_vehicle_1979_2022.csv')"
   ]
  },
  {
   "cell_type": "code",
   "execution_count": 36,
   "metadata": {},
   "outputs": [
    {
     "data": {
      "text/html": [
       "<div>\n",
       "<style scoped>\n",
       "    .dataframe tbody tr th:only-of-type {\n",
       "        vertical-align: middle;\n",
       "    }\n",
       "\n",
       "    .dataframe tbody tr th {\n",
       "        vertical-align: top;\n",
       "    }\n",
       "\n",
       "    .dataframe thead th {\n",
       "        text-align: right;\n",
       "    }\n",
       "</style>\n",
       "<table border=\"1\" class=\"dataframe\">\n",
       "  <thead>\n",
       "    <tr style=\"text-align: right;\">\n",
       "      <th></th>\n",
       "      <th>accident_index</th>\n",
       "      <th>accident_year</th>\n",
       "      <th>accident_severity</th>\n",
       "      <th>number_of_vehicles</th>\n",
       "      <th>number_of_casualties</th>\n",
       "      <th>date</th>\n",
       "      <th>day_of_week</th>\n",
       "      <th>time</th>\n",
       "      <th>first_road_class</th>\n",
       "      <th>road_type</th>\n",
       "      <th>speed_limit</th>\n",
       "      <th>junction_detail</th>\n",
       "      <th>junction_control</th>\n",
       "      <th>second_road_class</th>\n",
       "      <th>pedestrian_crossing_physical_facilities</th>\n",
       "      <th>light_conditions</th>\n",
       "      <th>weather_conditions</th>\n",
       "      <th>road_surface_conditions</th>\n",
       "      <th>special_conditions_at_site</th>\n",
       "      <th>carriageway_hazards</th>\n",
       "      <th>urban_or_rural_area</th>\n",
       "      <th>did_police_officer_attend_scene_of_accident</th>\n",
       "      <th>vehicle_type</th>\n",
       "      <th>sex_of_driver</th>\n",
       "      <th>age_of_driver</th>\n",
       "      <th>engine_capacity_cc</th>\n",
       "      <th>age_of_vehicle</th>\n",
       "      <th>vehicle_type_grouped</th>\n",
       "    </tr>\n",
       "  </thead>\n",
       "  <tbody>\n",
       "    <tr>\n",
       "      <th>0</th>\n",
       "      <td>197901A11AD14</td>\n",
       "      <td>1979</td>\n",
       "      <td>3</td>\n",
       "      <td>2</td>\n",
       "      <td>1</td>\n",
       "      <td>18/01/1979</td>\n",
       "      <td>5</td>\n",
       "      <td>08:00</td>\n",
       "      <td>3</td>\n",
       "      <td>1</td>\n",
       "      <td>30.0</td>\n",
       "      <td>1</td>\n",
       "      <td>4</td>\n",
       "      <td>-1</td>\n",
       "      <td>-1</td>\n",
       "      <td>1</td>\n",
       "      <td>8</td>\n",
       "      <td>1</td>\n",
       "      <td>-1</td>\n",
       "      <td>0</td>\n",
       "      <td>-1</td>\n",
       "      <td>-1</td>\n",
       "      <td>109</td>\n",
       "      <td>1</td>\n",
       "      <td>44</td>\n",
       "      <td>-1</td>\n",
       "      <td>-1</td>\n",
       "      <td>8</td>\n",
       "    </tr>\n",
       "  </tbody>\n",
       "</table>\n",
       "</div>"
      ],
      "text/plain": [
       "  accident_index  accident_year  accident_severity  number_of_vehicles  \\\n",
       "0  197901A11AD14           1979                  3                   2   \n",
       "\n",
       "   number_of_casualties        date  day_of_week   time  first_road_class  \\\n",
       "0                     1  18/01/1979            5  08:00                 3   \n",
       "\n",
       "   road_type  speed_limit  junction_detail  junction_control  \\\n",
       "0          1         30.0                1                 4   \n",
       "\n",
       "   second_road_class  pedestrian_crossing_physical_facilities  \\\n",
       "0                 -1                                       -1   \n",
       "\n",
       "   light_conditions  weather_conditions  road_surface_conditions  \\\n",
       "0                 1                   8                        1   \n",
       "\n",
       "   special_conditions_at_site  carriageway_hazards  urban_or_rural_area  \\\n",
       "0                          -1                    0                   -1   \n",
       "\n",
       "   did_police_officer_attend_scene_of_accident  vehicle_type  sex_of_driver  \\\n",
       "0                                           -1           109              1   \n",
       "\n",
       "   age_of_driver  engine_capacity_cc  age_of_vehicle  vehicle_type_grouped  \n",
       "0             44                  -1              -1                     8  "
      ]
     },
     "execution_count": 36,
     "metadata": {},
     "output_type": "execute_result"
    }
   ],
   "source": [
    "acc_data_ML.head(1)"
   ]
  },
  {
   "cell_type": "markdown",
   "metadata": {},
   "source": [
    "### Renaming the values of categorical features for ML"
   ]
  },
  {
   "cell_type": "code",
   "execution_count": 38,
   "metadata": {},
   "outputs": [],
   "source": [
    "# Dictionary for renaming the features\n",
    "day_of_week_dict = {\n",
    "    1: 'sunday', 2: 'monday', 3: 'tuesday', 4: 'wednesday', 5: 'thursday', 6: 'friday', 7: 'saturday'\n",
    "    }\n",
    "first_road_class_dict = {\n",
    "    1: 'motorway', 2: 'motorway', 3: 'A', 4: 'B', 6: 'unknown', -1: 'unknown'\n",
    "    }\n",
    "road_type_dict = {\n",
    "    1: 'roundabout', 2: 'one_way_or_slip_road', 3: 'dual_carriageway', 6: 'single_carriageway', 7: 'one_way_or_slip_road', \n",
    "    9: 'unknown', 12: 'one_way_or_slip_road', -1: 'unknown'\n",
    "    }\n",
    "junction_detail_dict = {\n",
    "    0: 'not_a_junction', 1: 'roundabout', 2: 'roundabout', 3: 'tor_staggered_junction', 5: 'slip_road', 6: 'crossroads', \n",
    "    7: 'more_than_4_arms', 8: 'private_drive_or_entrance', 9: 'other', 99: 'unknown', -1: 'unknown'\n",
    "    }\n",
    "junction_control_dict = {\n",
    "    0: 'not_a_junction', 1: 'authorised_person', 2: 'auto_traffic_signal', 3: 'stop_sign', 4: 'give_way_or_uncontrolled', \n",
    "    -1: 'unknown', 9: 'unknown'\n",
    "    }\n",
    "second_road_class_dict = {\n",
    "    0: 'not_a_junction', 1: 'motorway', 2: 'motorway', 3: 'A', 4: 'B', 5: 'C', 6: 'unknown', 9: 'unknown', -1: 'unknown'\n",
    "    }\n",
    "pedestrian_crossing_physical_facilities_dict = {\n",
    "    0: 'none', 1: 'zebra', 4: 'pelican_puffin_toucan_or_similar', 5: 'pedestrian_phase_at_traffic_signal', \n",
    "    7: 'footbridge_or_subway', 8: 'central_refuge', -1: 'unknown', 9: 'unknown'\n",
    "    }\n",
    "light_conditions_dict = {\n",
    "    1: 'daylight', 4: 'dark', 5: 'dark', 6: 'dark', 7: 'dark', -1: 'unknown'\n",
    "    }\n",
    "weather_conditions_dict = {\n",
    "    1: 'fine_no_high_winds', 2: 'raining_no_high_winds', 3: 'snowing_no_high_winds', 4: 'fine_high_winds', \n",
    "    5: 'raining_high_winds', 6: 'snowing_high_winds', 7: 'fog_or_mist', 8: 'other', 9: 'unknown', -1: 'unknown'\n",
    "    }\n",
    "road_surface_conditions_dict = {\n",
    "    1: 'dry', 2: 'wet_or_damp', 3: 'snow', 4: 'frost_or_ice', 5: 'flood_over_3cm', 6: 'oil_or_diesel', 7: 'mud', \n",
    "    -1: 'unknown', 9: 'unknown'\n",
    "    }\n",
    "special_conditions_at_site_dict = {\n",
    "    0: 'none', 1: 'auto_traffic_signal_out', 2: 'auto_signal_part_defective', \n",
    "    3: 'road_sign_or_marking_defective_or_obscured', 4: 'roadworks', 5: 'road_surface_defective', 6: 'oil_or_diesel', \n",
    "    7: 'mud', -1: 'unknown', 9: 'unknown'\n",
    "    }\n",
    "carriageway_hazards_dict = {\n",
    "    0: 'none', 1: 'vehicle_load_on_road', 2: 'other_object_on_road', 3: 'previous_accident', 4: 'dog_on_road', \n",
    "    5: 'other_animal_on_road', 6: 'pedestrian_in_carriageway', 7: 'any_animal_in_carriageway_except_ridden_horse', \n",
    "    -1: 'unknown', 9: 'unknown'\n",
    "    }\n",
    "urban_or_rural_area_dict = {\n",
    "    1: 'urban', 2: 'rural', 3: 'unknown', 4: 'unknown'\n",
    "    }\n",
    "did_police_officer_attend_scene_of_accident_dict = {\n",
    "    1: 'yes', 2: 'no', 3: 'no', 4: 'unknown'\n",
    "    }\n",
    "vehicle_type_dict = {\n",
    "    1: 'bike', 2: 'motorcycle', 3: 'motorcycle', 4: 'motorcycle', 5: 'motorcycle', 8: 'car', 9: 'car', 10: 'other', \n",
    "    11: 'bus', 16: 'other', 17: 'other', 18: 'other', 19: 'goods_under_3.5t', 20: 'goods_over_3.5t', 21: 'goods_over_3.5t', \n",
    "    22: 'other', 23: 'other', 90: 'other', 97: 'motorcycle', 98: 'other', 99: 'unknown', 103: 'other', 104: 'motorcycle', \n",
    "    105: 'motorcycle', 106: 'motorcycle', 108: 'car', 109: 'car', 110: 'other', 113: 'goods_over_3.5t', -1: 'unknown'\n",
    "    }\n",
    "sex_of_driver_dict = {\n",
    "    1: 'male', 2: 'female', 3: 'unknown', -1: 'unknown'\n",
    "    }\n",
    "\n",
    "# Dictionary of dictionaries for renaming\n",
    "rename_dict = {\n",
    "    'first_road_class': first_road_class_dict,\n",
    "    'road_type': road_type_dict,\n",
    "    'junction_detail' : junction_detail_dict,\n",
    "    'junction_control' : junction_control_dict,\n",
    "    'second_road_class' : second_road_class_dict,\n",
    "    'pedestrian_crossing_physical_facilities' : pedestrian_crossing_physical_facilities_dict,\n",
    "    'light_conditions' : light_conditions_dict,\n",
    "    'weather_conditions' : weather_conditions_dict,\n",
    "    'road_surface_conditions' : road_surface_conditions_dict,\n",
    "    'special_conditions_at_site' : special_conditions_at_site_dict,\n",
    "    'carriageway_hazards' : carriageway_hazards_dict,\n",
    "    'urban_or_rural_area' : urban_or_rural_area_dict,\n",
    "    'did_police_officer_attend_scene_of_accident' : did_police_officer_attend_scene_of_accident_dict,\n",
    "    'vehicle_type' : vehicle_type_dict,\n",
    "    'sex_of_driver' : sex_of_driver_dict\n",
    "}\n",
    "\n",
    "# Loop through the dictionary to rename values\n",
    "for column, mapping_dict in rename_dict.items():\n",
    "    if column in acc_data_ML.columns:  # Check if the column exists in your DataFrame\n",
    "        acc_data_ML[column] = acc_data_ML[column].replace(mapping_dict)\n",
    "\n",
    "# Drop columns not useful for ML\n",
    "columns_to_drop = ['engine_capacity_cc', 'age_of_vehicle', 'vehicle_type_grouped']\n",
    "acc_data_ML.drop(columns=columns_to_drop, inplace=True, errors='ignore')"
   ]
  },
  {
   "cell_type": "markdown",
   "metadata": {},
   "source": [
    "### Exploring numerical features"
   ]
  },
  {
   "cell_type": "markdown",
   "metadata": {},
   "source": [
    "#### Number of vehicles involved in a road accident"
   ]
  },
  {
   "cell_type": "code",
   "execution_count": 39,
   "metadata": {},
   "outputs": [
    {
     "name": "stdout",
     "output_type": "stream",
     "text": [
      "[  2   1   4   3   5   6  13   8   7   9  12  10  11  18  16  14  15  25\n",
      "  17  29  19  20  56  61  35  21  26  31  27  51  49  23  24  36  59  41\n",
      "  47  30  33  43  40  38  66 192  53  73  39  75  78  44  22  82  34  37\n",
      "  88  42  32  28  67]\n",
      "max number of vehicles: 192\n",
      "min number of vehicles: 1\n"
     ]
    }
   ],
   "source": [
    "print(acc_data_ML['number_of_vehicles'].unique())\n",
    "print(\"max number of vehicles:\", acc_data_ML['number_of_vehicles'].max())\n",
    "print(\"min number of vehicles:\", acc_data_ML['number_of_vehicles'].min())"
   ]
  },
  {
   "cell_type": "code",
   "execution_count": 40,
   "metadata": {},
   "outputs": [
    {
     "name": "stdout",
     "output_type": "stream",
     "text": [
      "Number of rows where 'number_of_vehicles' > 50: 1067\n"
     ]
    }
   ],
   "source": [
    "# Take a look at the accidents where more than 50 vehicles were involved\n",
    "\n",
    "#pd.set_option('display.max_rows', None) \n",
    "pd.set_option('display.max_columns', None)\n",
    "\n",
    "# Filter and display the DataFrame\n",
    "filtered_df = acc_data_ML[acc_data_ML['number_of_vehicles'] > 50]\n",
    "print(f\"Number of rows where 'number_of_vehicles' > 50: {len(filtered_df)}\")"
   ]
  },
  {
   "cell_type": "code",
   "execution_count": 41,
   "metadata": {},
   "outputs": [
    {
     "name": "stdout",
     "output_type": "stream",
     "text": [
      "Accident severity\n",
      "2    511\n",
      "1    497\n",
      "3     59\n",
      "Name: accident_severity, dtype: int64\n",
      "Vehicle type\n",
      "car                 752\n",
      "goods_over_3.5t     211\n",
      "goods_under_3.5t     96\n",
      "bus                   3\n",
      "other                 3\n",
      "motorcycle            2\n",
      "Name: vehicle_type, dtype: int64\n",
      "Number of casualties\n",
      "28    192\n",
      "5     115\n",
      "36     88\n",
      "38     82\n",
      "80     78\n",
      "18     75\n",
      "12     73\n",
      "70     67\n",
      "19     66\n",
      "10     66\n",
      "6      61\n",
      "27     53\n",
      "15     51\n",
      "Name: number_of_casualties, dtype: int64\n"
     ]
    }
   ],
   "source": [
    "print(\"Accident severity\")\n",
    "print(filtered_df['accident_severity'].value_counts())\n",
    "print(\"Vehicle type\")\n",
    "print(filtered_df['vehicle_type'].value_counts())\n",
    "print(\"Number of casualties\")\n",
    "print(filtered_df['number_of_casualties'].value_counts())"
   ]
  },
  {
   "cell_type": "code",
   "execution_count": 42,
   "metadata": {},
   "outputs": [
    {
     "name": "stdout",
     "output_type": "stream",
     "text": [
      "Number of rows where 'number_of_vehicles' = 192: 192\n"
     ]
    }
   ],
   "source": [
    "# Take a look at the accident(s) where 192 vehicles were involved\n",
    "\n",
    "#pd.set_option('display.max_rows', None) \n",
    "pd.set_option('display.max_columns', None)\n",
    "\n",
    "# Filter and display the DataFrame\n",
    "filtered_df = acc_data_ML[acc_data_ML['number_of_vehicles'] == 192]\n",
    "print(f\"Number of rows where 'number_of_vehicles' = 192: {len(filtered_df)}\")"
   ]
  },
  {
   "cell_type": "code",
   "execution_count": 43,
   "metadata": {},
   "outputs": [
    {
     "name": "stdout",
     "output_type": "stream",
     "text": [
      "Accident severity\n",
      "1    192\n",
      "Name: accident_severity, dtype: int64\n",
      "Vehicle type\n",
      "car                 85\n",
      "goods_over_3.5t     82\n",
      "goods_under_3.5t    25\n",
      "Name: vehicle_type, dtype: int64\n",
      "Number of casualties\n",
      "28    192\n",
      "Name: number_of_casualties, dtype: int64\n",
      "Accident date\n",
      "21/12/1992    192\n",
      "Name: date, dtype: int64\n"
     ]
    }
   ],
   "source": [
    "print(\"Accident severity\")\n",
    "print(filtered_df['accident_severity'].value_counts())\n",
    "print(\"Vehicle type\")\n",
    "print(filtered_df['vehicle_type'].value_counts())\n",
    "print(\"Number of casualties\")\n",
    "print(filtered_df['number_of_casualties'].value_counts())\n",
    "print(\"Accident date\")\n",
    "print(filtered_df['date'].value_counts())"
   ]
  },
  {
   "cell_type": "markdown",
   "metadata": {},
   "source": [
    "##### At least don't seem to be any missing values here"
   ]
  },
  {
   "cell_type": "markdown",
   "metadata": {},
   "source": [
    "#### Number of casualties"
   ]
  },
  {
   "cell_type": "code",
   "execution_count": 46,
   "metadata": {},
   "outputs": [
    {
     "name": "stdout",
     "output_type": "stream",
     "text": [
      "[ 1  3  2  5  4  6  7 12 10  9 16  8 25 11 33 17 14 45 13 15 42 22 24 29\n",
      " 23 20 26 18 28 35 57 39 37 43 36 21 44 38 34 27 60 19 56 41 52 62 32 47\n",
      " 50 55 40 51 30 63 70 53 31 61 66 80 46 48 54 75 90 79 71 67 68 87 93 58\n",
      " 59]\n",
      "max number of casualties: 93\n",
      "min number of casualties: 1\n"
     ]
    }
   ],
   "source": [
    "print(acc_data_ML['number_of_casualties'].unique())\n",
    "print(\"max number of casualties:\", acc_data_ML['number_of_casualties'].max())\n",
    "print(\"min number of casualties:\", acc_data_ML['number_of_casualties'].min())"
   ]
  },
  {
   "cell_type": "code",
   "execution_count": 47,
   "metadata": {},
   "outputs": [
    {
     "name": "stdout",
     "output_type": "stream",
     "text": [
      "Number of rows where 'number_of_casualties' >= 50: 309\n"
     ]
    }
   ],
   "source": [
    "# Take a look at the accidents with 50 or more casualties\n",
    "\n",
    "#pd.set_option('display.max_rows', None) \n",
    "pd.set_option('display.max_columns', None)\n",
    "\n",
    "# Filter and display the DataFrame\n",
    "filtered_df = acc_data_ML[acc_data_ML['number_of_casualties'] >= 50]\n",
    "print(f\"Number of rows where 'number_of_casualties' >= 50: {len(filtered_df)}\")"
   ]
  },
  {
   "cell_type": "code",
   "execution_count": 48,
   "metadata": {},
   "outputs": [
    {
     "name": "stdout",
     "output_type": "stream",
     "text": [
      "Number of vehicles\n",
      "78    78\n",
      "67    67\n",
      "2     46\n",
      "34    34\n",
      "3     24\n",
      "15    15\n",
      "5     15\n",
      "1     12\n",
      "4     12\n",
      "6      6\n",
      "Name: number_of_vehicles, dtype: int64\n",
      "Accident severity\n",
      "1    161\n",
      "2    130\n",
      "3     18\n",
      "Name: accident_severity, dtype: int64\n",
      "Vehicle type\n",
      "car                 183\n",
      "bus                  70\n",
      "goods_under_3.5t     27\n",
      "goods_over_3.5t      22\n",
      "other                 4\n",
      "motorcycle            2\n",
      "bike                  1\n",
      "Name: vehicle_type, dtype: int64\n"
     ]
    }
   ],
   "source": [
    "print(\"Number of vehicles\")\n",
    "print(filtered_df['number_of_vehicles'].value_counts())\n",
    "print(\"Accident severity\")\n",
    "print(filtered_df['accident_severity'].value_counts())\n",
    "print(\"Vehicle type\")\n",
    "print(filtered_df['vehicle_type'].value_counts())"
   ]
  },
  {
   "cell_type": "code",
   "execution_count": 50,
   "metadata": {},
   "outputs": [
    {
     "name": "stdout",
     "output_type": "stream",
     "text": [
      "Number of rows where 'number_of_casualties' = 93: 2\n"
     ]
    }
   ],
   "source": [
    "# Take a look at the accident(s) with 93 casualties\n",
    "\n",
    "filtered_df = acc_data_ML[acc_data_ML['number_of_casualties'] == 93]\n",
    "print(f\"Number of rows where 'number_of_casualties' = 93: {len(filtered_df)}\")"
   ]
  },
  {
   "cell_type": "code",
   "execution_count": 51,
   "metadata": {},
   "outputs": [
    {
     "data": {
      "text/html": [
       "<div>\n",
       "<style scoped>\n",
       "    .dataframe tbody tr th:only-of-type {\n",
       "        vertical-align: middle;\n",
       "    }\n",
       "\n",
       "    .dataframe tbody tr th {\n",
       "        vertical-align: top;\n",
       "    }\n",
       "\n",
       "    .dataframe thead th {\n",
       "        text-align: right;\n",
       "    }\n",
       "</style>\n",
       "<table border=\"1\" class=\"dataframe\">\n",
       "  <thead>\n",
       "    <tr style=\"text-align: right;\">\n",
       "      <th></th>\n",
       "      <th>accident_index</th>\n",
       "      <th>accident_year</th>\n",
       "      <th>accident_severity</th>\n",
       "      <th>number_of_vehicles</th>\n",
       "      <th>number_of_casualties</th>\n",
       "      <th>date</th>\n",
       "      <th>day_of_week</th>\n",
       "      <th>time</th>\n",
       "      <th>first_road_class</th>\n",
       "      <th>road_type</th>\n",
       "      <th>speed_limit</th>\n",
       "      <th>junction_detail</th>\n",
       "      <th>junction_control</th>\n",
       "      <th>second_road_class</th>\n",
       "      <th>pedestrian_crossing_physical_facilities</th>\n",
       "      <th>light_conditions</th>\n",
       "      <th>weather_conditions</th>\n",
       "      <th>road_surface_conditions</th>\n",
       "      <th>special_conditions_at_site</th>\n",
       "      <th>carriageway_hazards</th>\n",
       "      <th>urban_or_rural_area</th>\n",
       "      <th>did_police_officer_attend_scene_of_accident</th>\n",
       "      <th>vehicle_type</th>\n",
       "      <th>sex_of_driver</th>\n",
       "      <th>age_of_driver</th>\n",
       "      <th>age_of_driver_group</th>\n",
       "    </tr>\n",
       "  </thead>\n",
       "  <tbody>\n",
       "    <tr>\n",
       "      <th>13886126</th>\n",
       "      <td>20144100J0489</td>\n",
       "      <td>2014</td>\n",
       "      <td>2</td>\n",
       "      <td>2</td>\n",
       "      <td>93</td>\n",
       "      <td>20/10/2014</td>\n",
       "      <td>2</td>\n",
       "      <td>08:22</td>\n",
       "      <td>A</td>\n",
       "      <td>single_carriageway</td>\n",
       "      <td>60.0</td>\n",
       "      <td>not_a_junction</td>\n",
       "      <td>unknown</td>\n",
       "      <td>not_a_junction</td>\n",
       "      <td>none</td>\n",
       "      <td>daylight</td>\n",
       "      <td>fine_no_high_winds</td>\n",
       "      <td>dry</td>\n",
       "      <td>none</td>\n",
       "      <td>none</td>\n",
       "      <td>rural</td>\n",
       "      <td>yes</td>\n",
       "      <td>bus</td>\n",
       "      <td>male</td>\n",
       "      <td>41</td>\n",
       "      <td>40-44</td>\n",
       "    </tr>\n",
       "    <tr>\n",
       "      <th>13886127</th>\n",
       "      <td>20144100J0489</td>\n",
       "      <td>2014</td>\n",
       "      <td>2</td>\n",
       "      <td>2</td>\n",
       "      <td>93</td>\n",
       "      <td>20/10/2014</td>\n",
       "      <td>2</td>\n",
       "      <td>08:22</td>\n",
       "      <td>A</td>\n",
       "      <td>single_carriageway</td>\n",
       "      <td>60.0</td>\n",
       "      <td>not_a_junction</td>\n",
       "      <td>unknown</td>\n",
       "      <td>not_a_junction</td>\n",
       "      <td>none</td>\n",
       "      <td>daylight</td>\n",
       "      <td>fine_no_high_winds</td>\n",
       "      <td>dry</td>\n",
       "      <td>none</td>\n",
       "      <td>none</td>\n",
       "      <td>rural</td>\n",
       "      <td>yes</td>\n",
       "      <td>car</td>\n",
       "      <td>female</td>\n",
       "      <td>40</td>\n",
       "      <td>40-44</td>\n",
       "    </tr>\n",
       "  </tbody>\n",
       "</table>\n",
       "</div>"
      ],
      "text/plain": [
       "         accident_index  accident_year  accident_severity  number_of_vehicles  \\\n",
       "13886126  20144100J0489           2014                  2                   2   \n",
       "13886127  20144100J0489           2014                  2                   2   \n",
       "\n",
       "          number_of_casualties        date  day_of_week   time  \\\n",
       "13886126                    93  20/10/2014            2  08:22   \n",
       "13886127                    93  20/10/2014            2  08:22   \n",
       "\n",
       "         first_road_class           road_type  speed_limit junction_detail  \\\n",
       "13886126                A  single_carriageway         60.0  not_a_junction   \n",
       "13886127                A  single_carriageway         60.0  not_a_junction   \n",
       "\n",
       "         junction_control second_road_class  \\\n",
       "13886126          unknown    not_a_junction   \n",
       "13886127          unknown    not_a_junction   \n",
       "\n",
       "         pedestrian_crossing_physical_facilities light_conditions  \\\n",
       "13886126                                    none         daylight   \n",
       "13886127                                    none         daylight   \n",
       "\n",
       "          weather_conditions road_surface_conditions  \\\n",
       "13886126  fine_no_high_winds                     dry   \n",
       "13886127  fine_no_high_winds                     dry   \n",
       "\n",
       "         special_conditions_at_site carriageway_hazards urban_or_rural_area  \\\n",
       "13886126                       none                none               rural   \n",
       "13886127                       none                none               rural   \n",
       "\n",
       "         did_police_officer_attend_scene_of_accident vehicle_type  \\\n",
       "13886126                                         yes          bus   \n",
       "13886127                                         yes          car   \n",
       "\n",
       "         sex_of_driver  age_of_driver age_of_driver_group  \n",
       "13886126          male             41               40-44  \n",
       "13886127        female             40               40-44  "
      ]
     },
     "execution_count": 51,
     "metadata": {},
     "output_type": "execute_result"
    }
   ],
   "source": [
    "pd.set_option('display.max_rows', None) \n",
    "pd.set_option('display.max_columns', None)\n",
    "\n",
    "filtered_df"
   ]
  },
  {
   "cell_type": "markdown",
   "metadata": {},
   "source": [
    "#### Looking at the driver's ages (unique values, max, min)"
   ]
  },
  {
   "cell_type": "code",
   "execution_count": 8,
   "metadata": {},
   "outputs": [
    {
     "name": "stdout",
     "output_type": "stream",
     "text": [
      "[ 44  -1  21  31  23  26  18  59  19  17  20  65  16  42  28  41  50  52\n",
      "  14  53  25  68  60  47  43  39   9  30  27  22  55  40  58  57  34  35\n",
      "  46  71  29  37  56  13  10  54   8  78  33  11  36  51  38  24  49  45\n",
      "  32  74  48  70  81  67  62  61  12  69  72  63   7   6  15  84   5  64\n",
      "  66  75  79  77  73  76   4  80  83  85  82  86  88  90  89  87  95   0\n",
      "  91  96   3   2   1  92  97  94  93  99  98 100 101 102]\n",
      "max age of driver is 102\n",
      "min age of driver is -1\n"
     ]
    }
   ],
   "source": [
    "print(acc_data_ML['age_of_driver'].unique())\n",
    "print(\"max age of driver is\", acc_data_ML['age_of_driver'].max())\n",
    "print(\"min age of driver is\", acc_data_ML['age_of_driver'].min())"
   ]
  },
  {
   "cell_type": "markdown",
   "metadata": {},
   "source": [
    "##### Due to some \"weird\" ages, and missing values, we will use binned ages , binning into 5-year bins, including '20 or under' and 'over 70', as well as 'unknown'."
   ]
  },
  {
   "cell_type": "code",
   "execution_count": 45,
   "metadata": {},
   "outputs": [],
   "source": [
    "age_bins = [-1, 0, 20, 25, 30, 35, 40, 45, 50, 55, 60, 65, 70, 105]\n",
    "age_labels = ['unknown', 'under 20', '20-24', '25-29', '30-34', '35-39', '40-44', '45-49', '50-54', '55-59', '60-64', '65-69', '70 and over']\n",
    "acc_data_ML['age_of_driver_group'] = pd.cut(acc_data_ML['age_of_driver'], bins=age_bins, labels=age_labels, right=False)"
   ]
  },
  {
   "cell_type": "code",
   "execution_count": null,
   "metadata": {},
   "outputs": [],
   "source": []
  }
 ],
 "metadata": {
  "kernelspec": {
   "display_name": "base",
   "language": "python",
   "name": "python3"
  },
  "language_info": {
   "codemirror_mode": {
    "name": "ipython",
    "version": 3
   },
   "file_extension": ".py",
   "mimetype": "text/x-python",
   "name": "python",
   "nbconvert_exporter": "python",
   "pygments_lexer": "ipython3",
   "version": "3.11.4"
  }
 },
 "nbformat": 4,
 "nbformat_minor": 2
}
